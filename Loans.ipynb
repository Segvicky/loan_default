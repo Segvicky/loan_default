{
 "cells": [
  {
   "cell_type": "code",
   "execution_count": 1,
   "id": "66183d15",
   "metadata": {},
   "outputs": [],
   "source": [
    "import numpy as np \n",
    "import pandas as pd\n",
    "from matplotlib import pyplot as plt\n",
    "import seaborn as sns\n",
    "from sklearn.ensemble import RandomForestClassifier\n",
    "from sklearn.datasets import make_classification\n",
    "from sklearn.tree import DecisionTreeClassifier\n",
    "from sklearn.model_selection import train_test_split\n",
    "from sklearn.metrics import r2_score, explained_variance_score, confusion_matrix, accuracy_score, classification_report, log_loss\n",
    "from math import sqrt\n",
    "\n",
    "%matplotlib inline\n"
   ]
  },
  {
   "cell_type": "code",
   "execution_count": 2,
   "id": "1f1d1d8a",
   "metadata": {},
   "outputs": [
    {
     "name": "stdout",
     "output_type": "stream",
     "text": [
      "(492, 14)\n"
     ]
    },
    {
     "data": {
      "text/html": [
       "<div>\n",
       "<style scoped>\n",
       "    .dataframe tbody tr th:only-of-type {\n",
       "        vertical-align: middle;\n",
       "    }\n",
       "\n",
       "    .dataframe tbody tr th {\n",
       "        vertical-align: top;\n",
       "    }\n",
       "\n",
       "    .dataframe thead th {\n",
       "        text-align: right;\n",
       "    }\n",
       "</style>\n",
       "<table border=\"1\" class=\"dataframe\">\n",
       "  <thead>\n",
       "    <tr style=\"text-align: right;\">\n",
       "      <th></th>\n",
       "      <th>Type of Account</th>\n",
       "      <th>Account History</th>\n",
       "      <th>Reason for the Loan</th>\n",
       "      <th>Loan Amount</th>\n",
       "      <th>Account Savings</th>\n",
       "      <th>Employment History</th>\n",
       "      <th>Individual Stauts</th>\n",
       "      <th>Other Loans</th>\n",
       "      <th>Security / Collateral</th>\n",
       "      <th>Age</th>\n",
       "      <th>Residence Status</th>\n",
       "      <th>Job</th>\n",
       "      <th>Completed Other loan?</th>\n",
       "      <th>Good Loan</th>\n",
       "    </tr>\n",
       "  </thead>\n",
       "  <tbody>\n",
       "    <tr>\n",
       "      <th>0</th>\n",
       "      <td>No Data</td>\n",
       "      <td>critical</td>\n",
       "      <td>Learning / Edu purposes</td>\n",
       "      <td>2116</td>\n",
       "      <td>0-200</td>\n",
       "      <td>5-7 Years</td>\n",
       "      <td>Male</td>\n",
       "      <td>No</td>\n",
       "      <td>Property - Real Estate</td>\n",
       "      <td>47</td>\n",
       "      <td>House Owner</td>\n",
       "      <td>Services</td>\n",
       "      <td>No</td>\n",
       "      <td>No</td>\n",
       "    </tr>\n",
       "    <tr>\n",
       "      <th>1</th>\n",
       "      <td>No Data</td>\n",
       "      <td>critical</td>\n",
       "      <td>TV</td>\n",
       "      <td>2438</td>\n",
       "      <td>No Data</td>\n",
       "      <td>7+ Years</td>\n",
       "      <td>Male</td>\n",
       "      <td>No</td>\n",
       "      <td>Savings Account</td>\n",
       "      <td>52</td>\n",
       "      <td>House Owner</td>\n",
       "      <td>Skilled Labor</td>\n",
       "      <td>No</td>\n",
       "      <td>No</td>\n",
       "    </tr>\n",
       "    <tr>\n",
       "      <th>2</th>\n",
       "      <td>No Data</td>\n",
       "      <td>critical</td>\n",
       "      <td>Buying a New Car</td>\n",
       "      <td>2144</td>\n",
       "      <td>0-200</td>\n",
       "      <td>2-5 Years</td>\n",
       "      <td>Male</td>\n",
       "      <td>No</td>\n",
       "      <td>Vehicle</td>\n",
       "      <td>48</td>\n",
       "      <td>House Owner</td>\n",
       "      <td>Skilled Labor</td>\n",
       "      <td>No</td>\n",
       "      <td>No</td>\n",
       "    </tr>\n",
       "    <tr>\n",
       "      <th>3</th>\n",
       "      <td>No Data</td>\n",
       "      <td>critical</td>\n",
       "      <td>Home furniture</td>\n",
       "      <td>2073</td>\n",
       "      <td>No Data</td>\n",
       "      <td>2-5 Years</td>\n",
       "      <td>Married</td>\n",
       "      <td>No</td>\n",
       "      <td>Vehicle</td>\n",
       "      <td>25</td>\n",
       "      <td>House Owner</td>\n",
       "      <td>Skilled Labor</td>\n",
       "      <td>Yes</td>\n",
       "      <td>No</td>\n",
       "    </tr>\n",
       "    <tr>\n",
       "      <th>4</th>\n",
       "      <td>No Data</td>\n",
       "      <td>critical</td>\n",
       "      <td>Support for Business</td>\n",
       "      <td>1276</td>\n",
       "      <td>No Data</td>\n",
       "      <td>7+ Years</td>\n",
       "      <td>Male</td>\n",
       "      <td>No</td>\n",
       "      <td>No Security</td>\n",
       "      <td>59</td>\n",
       "      <td>Renting</td>\n",
       "      <td>Services</td>\n",
       "      <td>No</td>\n",
       "      <td>No</td>\n",
       "    </tr>\n",
       "  </tbody>\n",
       "</table>\n",
       "</div>"
      ],
      "text/plain": [
       "  Type of Account Account History      Reason for the Loan  Loan Amount  \\\n",
       "0         No Data        critical  Learning / Edu purposes         2116   \n",
       "1         No Data        critical                       TV         2438   \n",
       "2         No Data        critical         Buying a New Car         2144   \n",
       "3         No Data        critical           Home furniture         2073   \n",
       "4         No Data        critical     Support for Business         1276   \n",
       "\n",
       "  Account Savings Employment History Individual Stauts Other Loans  \\\n",
       "0           0-200          5-7 Years              Male          No   \n",
       "1         No Data           7+ Years              Male          No   \n",
       "2           0-200          2-5 Years              Male          No   \n",
       "3         No Data          2-5 Years           Married          No   \n",
       "4         No Data           7+ Years              Male          No   \n",
       "\n",
       "    Security / Collateral  Age Residence Status            Job  \\\n",
       "0  Property - Real Estate   47      House Owner       Services   \n",
       "1         Savings Account   52      House Owner  Skilled Labor   \n",
       "2                 Vehicle   48      House Owner  Skilled Labor   \n",
       "3                 Vehicle   25      House Owner  Skilled Labor   \n",
       "4             No Security   59          Renting       Services   \n",
       "\n",
       "  Completed Other loan? Good Loan  \n",
       "0                    No        No  \n",
       "1                    No        No  \n",
       "2                    No        No  \n",
       "3                   Yes        No  \n",
       "4                    No        No  "
      ]
     },
     "execution_count": 2,
     "metadata": {},
     "output_type": "execute_result"
    }
   ],
   "source": [
    "data = pd.read_excel('loan2.xlsx')\n",
    "#raw_data = pd.read_excel('Loan_Default.xlsx')\n",
    "# print the shape\n",
    "print(data.shape)\n",
    "\n",
    "#runs the first 5 rows\n",
    "data.head(5)"
   ]
  },
  {
   "cell_type": "code",
   "execution_count": 3,
   "id": "a8fa8bc5",
   "metadata": {},
   "outputs": [
    {
     "name": "stdout",
     "output_type": "stream",
     "text": [
      "<class 'pandas.core.frame.DataFrame'>\n",
      "RangeIndex: 492 entries, 0 to 491\n",
      "Data columns (total 14 columns):\n",
      " #   Column                 Non-Null Count  Dtype \n",
      "---  ------                 --------------  ----- \n",
      " 0   Type of Account        492 non-null    object\n",
      " 1   Account History        492 non-null    object\n",
      " 2   Reason for the Loan    492 non-null    object\n",
      " 3   Loan Amount            492 non-null    int64 \n",
      " 4   Account Savings        492 non-null    object\n",
      " 5   Employment History     492 non-null    object\n",
      " 6   Individual Stauts      492 non-null    object\n",
      " 7   Other Loans            492 non-null    object\n",
      " 8   Security / Collateral  492 non-null    object\n",
      " 9   Age                    492 non-null    int64 \n",
      " 10  Residence Status       492 non-null    object\n",
      " 11  Job                    492 non-null    object\n",
      " 12  Completed Other loan?  492 non-null    object\n",
      " 13  Good Loan              492 non-null    object\n",
      "dtypes: int64(2), object(12)\n",
      "memory usage: 53.9+ KB\n"
     ]
    }
   ],
   "source": [
    "data.info()"
   ]
  },
  {
   "cell_type": "code",
   "execution_count": 5,
   "id": "5eaa513f",
   "metadata": {},
   "outputs": [
    {
     "data": {
      "text/plain": [
       "Yes    0.945122\n",
       "No     0.054878\n",
       "Name: Good Loan, dtype: float64"
      ]
     },
     "execution_count": 5,
     "metadata": {},
     "output_type": "execute_result"
    }
   ],
   "source": [
    "data['Good Loan'].value_counts(normalize=True)"
   ]
  },
  {
   "cell_type": "code",
   "execution_count": 6,
   "id": "d16f4966",
   "metadata": {},
   "outputs": [
    {
     "name": "stdout",
     "output_type": "stream",
     "text": [
      "(492, 14)\n"
     ]
    }
   ],
   "source": [
    "print(data.shape)"
   ]
  },
  {
   "cell_type": "code",
   "execution_count": 7,
   "id": "061af2f6",
   "metadata": {},
   "outputs": [
    {
     "data": {
      "text/plain": [
       "Type of Account          0\n",
       "Account History          0\n",
       "Reason for the Loan      0\n",
       "Loan Amount              0\n",
       "Account Savings          0\n",
       "Employment History       0\n",
       "Individual Stauts        0\n",
       "Other Loans              0\n",
       "Security / Collateral    0\n",
       "Age                      0\n",
       "Residence Status         0\n",
       "Job                      0\n",
       "Completed Other loan?    0\n",
       "Good Loan                0\n",
       "dtype: int64"
      ]
     },
     "execution_count": 7,
     "metadata": {},
     "output_type": "execute_result"
    }
   ],
   "source": [
    "# Checking for null values\n",
    "data.isnull().sum()"
   ]
  },
  {
   "cell_type": "code",
   "execution_count": 12,
   "id": "730c85ab",
   "metadata": {},
   "outputs": [
    {
     "name": "stdout",
     "output_type": "stream",
     "text": [
      "The number of values for feature Type of Account is: 4 -- ['No Data' 'Type A' 'Type B' 'Type C']\n",
      "The number of values for feature Account History is: 3 -- ['Average (known delays)' 'Good' 'critical']\n",
      "The number of values for feature Reason for the Loan is: 10 -- ['Advance Edu/training' 'All other' 'Buying a New Car' 'Buying a Used Car'\n",
      " 'Home Devices' 'Home furniture' 'Learning / Edu purposes' 'Renovation'\n",
      " 'Support for Business' 'TV']\n",
      "The number of values for feature Loan Amount is: 464\n",
      "The number of values for feature Account Savings is: 5 -- ['0-200' '1000+' '200-500' '500-1000' 'No Data']\n",
      "The number of values for feature Employment History is: 5 -- ['0-2 Years' '2-5 Years' '5-7 Years' '7+ Years' 'Unemployed']\n",
      "The number of values for feature Individual Stauts is: 5 -- ['Divorced' 'Female' 'Female_' 'Male' 'Married']\n",
      "The number of values for feature Other Loans is: 2 -- ['No' 'Yes']\n",
      "The number of values for feature Security / Collateral is: 4 -- ['No Security' 'Property - Real Estate' 'Savings Account' 'Vehicle']\n",
      "The number of values for feature Age is: 55\n",
      "The number of values for feature Residence Status is: 3 -- ['Free' 'House Owner' 'Renting']\n",
      "The number of values for feature Job is: 4 -- ['Not Employed' 'Professional / Management' 'Services' 'Skilled Labor']\n",
      "The number of values for feature Completed Other loan? is: 2 -- ['No' 'Yes']\n",
      "The number of values for feature Good Loan is: 2 -- ['No' 'Yes']\n"
     ]
    }
   ],
   "source": [
    "# Investigate all the elements whithin each Feature \n",
    "\n",
    "for column in data:\n",
    "    unique_values = np.unique(data[column])\n",
    "    nr_values = len(unique_values)\n",
    "    if nr_values <= 10:\n",
    "        print(\"The number of values for feature {} is: {} -- {}\".format(column, nr_values, unique_values))\n",
    "    else:\n",
    "        print(\"The number of values for feature {} is: {}\".format(column, nr_values))"
   ]
  },
  {
   "cell_type": "code",
   "execution_count": 13,
   "id": "c7b6248d",
   "metadata": {},
   "outputs": [
    {
     "data": {
      "text/plain": [
       "Index(['Type of Account', 'Account History', 'Reason for the Loan',\n",
       "       'Loan Amount', 'Account Savings', 'Employment History',\n",
       "       'Individual Stauts', 'Other Loans', 'Security / Collateral', 'Age',\n",
       "       'Residence Status', 'Job', 'Completed Other loan?', 'Good Loan'],\n",
       "      dtype='object')"
      ]
     },
     "execution_count": 13,
     "metadata": {},
     "output_type": "execute_result"
    }
   ],
   "source": [
    "data.columns"
   ]
  },
  {
   "cell_type": "code",
   "execution_count": null,
   "id": "0ec95bf4",
   "metadata": {},
   "outputs": [],
   "source": [
    "#Deleting the outlier\n",
    "\n",
    "data = data[data['Age'] < 100]\n",
    "\n",
    "data.shape"
   ]
  },
  {
   "cell_type": "code",
   "execution_count": 14,
   "id": "5b3451a2",
   "metadata": {},
   "outputs": [
    {
     "data": {
      "text/plain": [
       "Yes    465\n",
       "No      27\n",
       "Name: Good Loan, dtype: int64"
      ]
     },
     "execution_count": 14,
     "metadata": {},
     "output_type": "execute_result"
    }
   ],
   "source": [
    "data['Good Loan'].value_counts()"
   ]
  },
  {
   "cell_type": "code",
   "execution_count": 15,
   "id": "79339298",
   "metadata": {},
   "outputs": [
    {
     "data": {
      "text/plain": [
       "Yes    0.945122\n",
       "No     0.054878\n",
       "Name: Good Loan, dtype: float64"
      ]
     },
     "execution_count": 15,
     "metadata": {},
     "output_type": "execute_result"
    }
   ],
   "source": [
    "data['Good Loan'].value_counts(normalize=True)"
   ]
  },
  {
   "cell_type": "code",
   "execution_count": 16,
   "id": "402ab7ac",
   "metadata": {},
   "outputs": [
    {
     "data": {
      "text/plain": [
       "Index(['Type of Account', 'Account History', 'Reason for the Loan',\n",
       "       'Loan Amount', 'Account Savings', 'Employment History',\n",
       "       'Individual Stauts', 'Other Loans', 'Security / Collateral', 'Age',\n",
       "       'Residence Status', 'Job', 'Completed Other loan?', 'Good Loan'],\n",
       "      dtype='object')"
      ]
     },
     "execution_count": 16,
     "metadata": {},
     "output_type": "execute_result"
    }
   ],
   "source": [
    "data.columns"
   ]
  },
  {
   "cell_type": "code",
   "execution_count": 17,
   "id": "d1cc8b73",
   "metadata": {},
   "outputs": [
    {
     "data": {
      "image/png": "[encoded data removed]",
      "text/plain": [
       "<Figure size 432x288 with 1 Axes>"
      ]
     },
     "metadata": {
      "needs_background": "light"
     },
     "output_type": "display_data"
    },
    {
     "data": {
      "image/png": "[encoded data removed]",
      "text/plain": [
       "<Figure size 432x288 with 1 Axes>"
      ]
     },
     "metadata": {
      "needs_background": "light"
     },
     "output_type": "display_data"
    },
    {
     "data": {
      "image/png": "[encoded data removed]",
      "text/plain": [
       "<Figure size 432x288 with 1 Axes>"
      ]
     },
     "metadata": {
      "needs_background": "light"
     },
     "output_type": "display_data"
    },
    {
     "data": {
      "image/png": "[encoded data removed]",
      "text/plain": [
       "<Figure size 432x288 with 1 Axes>"
      ]
     },
     "metadata": {
      "needs_background": "light"
     },
     "output_type": "display_data"
    },
    {
     "data": {
      "image/png": "[encoded data removed]",
      "text/plain": [
       "<Figure size 432x288 with 1 Axes>"
      ]
     },
     "metadata": {
      "needs_background": "light"
     },
     "output_type": "display_data"
    },
    {
     "data": {
      "image/png": "[encoded data removed]",
      "text/plain": [
       "<Figure size 432x288 with 1 Axes>"
      ]
     },
     "metadata": {
      "needs_background": "light"
     },
     "output_type": "display_data"
    },
    {
     "data": {
      "image/png": "[encoded data removed]",
      "text/plain": [
       "<Figure size 432x288 with 1 Axes>"
      ]
     },
     "metadata": {
      "needs_background": "light"
     },
     "output_type": "display_data"
    },
    {
     "data": {
      "image/png": "[encoded data removed]",
      "text/plain": [
       "<Figure size 432x288 with 1 Axes>"
      ]
     },
     "metadata": {
      "needs_background": "light"
     },
     "output_type": "display_data"
    },
    {
     "data": {
      "image/png": "[encoded data removed]",
      "text/plain": [
       "<Figure size 432x288 with 1 Axes>"
      ]
     },
     "metadata": {
      "needs_background": "light"
     },
     "output_type": "display_data"
    },
    {
     "data": {
      "image/png": "[encoded data removed]",
      "text/plain": [
       "<Figure size 432x288 with 1 Axes>"
      ]
     },
     "metadata": {
      "needs_background": "light"
     },
     "output_type": "display_data"
    },
    {
     "data": {
      "image/png": "[encoded data removed]",
      "text/plain": [
       "<Figure size 432x288 with 1 Axes>"
      ]
     },
     "metadata": {
      "needs_background": "light"
     },
     "output_type": "display_data"
    },
    {
     "data": {
      "image/png": "[encoded data removed]",
      "text/plain": [
       "<Figure size 432x288 with 1 Axes>"
      ]
     },
     "metadata": {
      "needs_background": "light"
     },
     "output_type": "display_data"
    },
    {
     "data": {
      "image/png": "[encoded data removed]",
      "text/plain": [
       "<Figure size 432x288 with 1 Axes>"
      ]
     },
     "metadata": {
      "needs_background": "light"
     },
     "output_type": "display_data"
    }
   ],
   "source": [
    "#visualize relationship between target and the predictor variables\n",
    "features = ['Type of Account', 'Account History', 'Reason for the Loan',\n",
    "       'Loan Amount', 'Account Savings', 'Employment History',\n",
    "       'Individual Stauts', 'Other Loans', 'Security / Collateral', 'Age',\n",
    "       'Residence Status', 'Job', 'Completed Other loan?']\n",
    "    \n",
    "for f in features:\n",
    "    sns.countplot(x = f, data = data, palette = 'Set3', hue = 'Good Loan')\n",
    "    plt.show()"
   ]
  },
  {
   "cell_type": "code",
   "execution_count": 18,
   "id": "196449a4",
   "metadata": {},
   "outputs": [
    {
     "data": {
      "text/html": [
       "<div>\n",
       "<style scoped>\n",
       "    .dataframe tbody tr th:only-of-type {\n",
       "        vertical-align: middle;\n",
       "    }\n",
       "\n",
       "    .dataframe tbody tr th {\n",
       "        vertical-align: top;\n",
       "    }\n",
       "\n",
       "    .dataframe thead th {\n",
       "        text-align: right;\n",
       "    }\n",
       "</style>\n",
       "<table border=\"1\" class=\"dataframe\">\n",
       "  <thead>\n",
       "    <tr style=\"text-align: right;\">\n",
       "      <th></th>\n",
       "      <th>Type of Account</th>\n",
       "      <th>Account History</th>\n",
       "      <th>Reason for the Loan</th>\n",
       "      <th>Loan Amount</th>\n",
       "      <th>Account Savings</th>\n",
       "      <th>Employment History</th>\n",
       "      <th>Individual Stauts</th>\n",
       "      <th>Other Loans</th>\n",
       "      <th>Security / Collateral</th>\n",
       "      <th>Age</th>\n",
       "      <th>Residence Status</th>\n",
       "      <th>Job</th>\n",
       "      <th>Completed Other loan?</th>\n",
       "      <th>Good Loan</th>\n",
       "    </tr>\n",
       "  </thead>\n",
       "  <tbody>\n",
       "    <tr>\n",
       "      <th>0</th>\n",
       "      <td>No Data</td>\n",
       "      <td>critical</td>\n",
       "      <td>Learning / Edu purposes</td>\n",
       "      <td>2116</td>\n",
       "      <td>0-200</td>\n",
       "      <td>5-7 Years</td>\n",
       "      <td>Male</td>\n",
       "      <td>No</td>\n",
       "      <td>Property - Real Estate</td>\n",
       "      <td>47</td>\n",
       "      <td>House Owner</td>\n",
       "      <td>Services</td>\n",
       "      <td>No</td>\n",
       "      <td>No</td>\n",
       "    </tr>\n",
       "    <tr>\n",
       "      <th>1</th>\n",
       "      <td>No Data</td>\n",
       "      <td>critical</td>\n",
       "      <td>TV</td>\n",
       "      <td>2438</td>\n",
       "      <td>No Data</td>\n",
       "      <td>7+ Years</td>\n",
       "      <td>Male</td>\n",
       "      <td>No</td>\n",
       "      <td>Savings Account</td>\n",
       "      <td>52</td>\n",
       "      <td>House Owner</td>\n",
       "      <td>Skilled Labor</td>\n",
       "      <td>No</td>\n",
       "      <td>No</td>\n",
       "    </tr>\n",
       "    <tr>\n",
       "      <th>2</th>\n",
       "      <td>No Data</td>\n",
       "      <td>critical</td>\n",
       "      <td>Buying a New Car</td>\n",
       "      <td>2144</td>\n",
       "      <td>0-200</td>\n",
       "      <td>2-5 Years</td>\n",
       "      <td>Male</td>\n",
       "      <td>No</td>\n",
       "      <td>Vehicle</td>\n",
       "      <td>48</td>\n",
       "      <td>House Owner</td>\n",
       "      <td>Skilled Labor</td>\n",
       "      <td>No</td>\n",
       "      <td>No</td>\n",
       "    </tr>\n",
       "    <tr>\n",
       "      <th>3</th>\n",
       "      <td>No Data</td>\n",
       "      <td>critical</td>\n",
       "      <td>Home furniture</td>\n",
       "      <td>2073</td>\n",
       "      <td>No Data</td>\n",
       "      <td>2-5 Years</td>\n",
       "      <td>Married</td>\n",
       "      <td>No</td>\n",
       "      <td>Vehicle</td>\n",
       "      <td>25</td>\n",
       "      <td>House Owner</td>\n",
       "      <td>Skilled Labor</td>\n",
       "      <td>Yes</td>\n",
       "      <td>No</td>\n",
       "    </tr>\n",
       "    <tr>\n",
       "      <th>4</th>\n",
       "      <td>No Data</td>\n",
       "      <td>critical</td>\n",
       "      <td>Support for Business</td>\n",
       "      <td>1276</td>\n",
       "      <td>No Data</td>\n",
       "      <td>7+ Years</td>\n",
       "      <td>Male</td>\n",
       "      <td>No</td>\n",
       "      <td>No Security</td>\n",
       "      <td>59</td>\n",
       "      <td>Renting</td>\n",
       "      <td>Services</td>\n",
       "      <td>No</td>\n",
       "      <td>No</td>\n",
       "    </tr>\n",
       "  </tbody>\n",
       "</table>\n",
       "</div>"
      ],
      "text/plain": [
       "  Type of Account Account History      Reason for the Loan  Loan Amount  \\\n",
       "0         No Data        critical  Learning / Edu purposes         2116   \n",
       "1         No Data        critical                       TV         2438   \n",
       "2         No Data        critical         Buying a New Car         2144   \n",
       "3         No Data        critical           Home furniture         2073   \n",
       "4         No Data        critical     Support for Business         1276   \n",
       "\n",
       "  Account Savings Employment History Individual Stauts Other Loans  \\\n",
       "0           0-200          5-7 Years              Male          No   \n",
       "1         No Data           7+ Years              Male          No   \n",
       "2           0-200          2-5 Years              Male          No   \n",
       "3         No Data          2-5 Years           Married          No   \n",
       "4         No Data           7+ Years              Male          No   \n",
       "\n",
       "    Security / Collateral  Age Residence Status            Job  \\\n",
       "0  Property - Real Estate   47      House Owner       Services   \n",
       "1         Savings Account   52      House Owner  Skilled Labor   \n",
       "2                 Vehicle   48      House Owner  Skilled Labor   \n",
       "3                 Vehicle   25      House Owner  Skilled Labor   \n",
       "4             No Security   59          Renting       Services   \n",
       "\n",
       "  Completed Other loan? Good Loan  \n",
       "0                    No        No  \n",
       "1                    No        No  \n",
       "2                    No        No  \n",
       "3                   Yes        No  \n",
       "4                    No        No  "
      ]
     },
     "execution_count": 18,
     "metadata": {},
     "output_type": "execute_result"
    }
   ],
   "source": [
    "data.head()"
   ]
  },
  {
   "cell_type": "code",
   "execution_count": 19,
   "id": "32e052c8",
   "metadata": {},
   "outputs": [
    {
     "name": "stdout",
     "output_type": "stream",
     "text": [
      "(492, 14)\n",
      "(492, 567)\n"
     ]
    },
    {
     "name": "stderr",
     "output_type": "stream",
     "text": [
      "<ipython-input-19-681a6274e6bb>:14: SettingWithCopyWarning: \n",
      "A value is trying to be set on a copy of a slice from a DataFrame\n",
      "\n",
      "See the caveats in the documentation: https://pandas.pydata.org/pandas-docs/stable/user_guide/indexing.html#returning-a-view-versus-a-copy\n",
      "  new_data['Good Loan'][new_data['Good Loan'] == 'Yes'] = 1\n",
      "<ipython-input-19-681a6274e6bb>:15: SettingWithCopyWarning: \n",
      "A value is trying to be set on a copy of a slice from a DataFrame\n",
      "\n",
      "See the caveats in the documentation: https://pandas.pydata.org/pandas-docs/stable/user_guide/indexing.html#returning-a-view-versus-a-copy\n",
      "  new_data['Good Loan'][new_data['Good Loan'] == 'No'] = 0\n"
     ]
    },
    {
     "data": {
      "text/html": [
       "<div>\n",
       "<style scoped>\n",
       "    .dataframe tbody tr th:only-of-type {\n",
       "        vertical-align: middle;\n",
       "    }\n",
       "\n",
       "    .dataframe tbody tr th {\n",
       "        vertical-align: top;\n",
       "    }\n",
       "\n",
       "    .dataframe thead th {\n",
       "        text-align: right;\n",
       "    }\n",
       "</style>\n",
       "<table border=\"1\" class=\"dataframe\">\n",
       "  <thead>\n",
       "    <tr style=\"text-align: right;\">\n",
       "      <th></th>\n",
       "      <th>Good Loan</th>\n",
       "      <th>Type of Account_No Data</th>\n",
       "      <th>Type of Account_Type A</th>\n",
       "      <th>Type of Account_Type B</th>\n",
       "      <th>Type of Account_Type C</th>\n",
       "      <th>Account History_Average (known delays)</th>\n",
       "      <th>Account History_Good</th>\n",
       "      <th>Account History_critical</th>\n",
       "      <th>Reason for the Loan_Advance Edu/training</th>\n",
       "      <th>Reason for the Loan_All other</th>\n",
       "      <th>...</th>\n",
       "      <th>Age_327</th>\n",
       "      <th>Residence Status_Free</th>\n",
       "      <th>Residence Status_House Owner</th>\n",
       "      <th>Residence Status_Renting</th>\n",
       "      <th>Job_Not Employed</th>\n",
       "      <th>Job_Professional / Management</th>\n",
       "      <th>Job_Services</th>\n",
       "      <th>Job_Skilled Labor</th>\n",
       "      <th>Completed Other loan?_No</th>\n",
       "      <th>Completed Other loan?_Yes</th>\n",
       "    </tr>\n",
       "  </thead>\n",
       "  <tbody>\n",
       "    <tr>\n",
       "      <th>0</th>\n",
       "      <td>0</td>\n",
       "      <td>1</td>\n",
       "      <td>0</td>\n",
       "      <td>0</td>\n",
       "      <td>0</td>\n",
       "      <td>0</td>\n",
       "      <td>0</td>\n",
       "      <td>1</td>\n",
       "      <td>0</td>\n",
       "      <td>0</td>\n",
       "      <td>...</td>\n",
       "      <td>0</td>\n",
       "      <td>0</td>\n",
       "      <td>1</td>\n",
       "      <td>0</td>\n",
       "      <td>0</td>\n",
       "      <td>0</td>\n",
       "      <td>1</td>\n",
       "      <td>0</td>\n",
       "      <td>1</td>\n",
       "      <td>0</td>\n",
       "    </tr>\n",
       "    <tr>\n",
       "      <th>1</th>\n",
       "      <td>0</td>\n",
       "      <td>1</td>\n",
       "      <td>0</td>\n",
       "      <td>0</td>\n",
       "      <td>0</td>\n",
       "      <td>0</td>\n",
       "      <td>0</td>\n",
       "      <td>1</td>\n",
       "      <td>0</td>\n",
       "      <td>0</td>\n",
       "      <td>...</td>\n",
       "      <td>0</td>\n",
       "      <td>0</td>\n",
       "      <td>1</td>\n",
       "      <td>0</td>\n",
       "      <td>0</td>\n",
       "      <td>0</td>\n",
       "      <td>0</td>\n",
       "      <td>1</td>\n",
       "      <td>1</td>\n",
       "      <td>0</td>\n",
       "    </tr>\n",
       "    <tr>\n",
       "      <th>2</th>\n",
       "      <td>0</td>\n",
       "      <td>1</td>\n",
       "      <td>0</td>\n",
       "      <td>0</td>\n",
       "      <td>0</td>\n",
       "      <td>0</td>\n",
       "      <td>0</td>\n",
       "      <td>1</td>\n",
       "      <td>0</td>\n",
       "      <td>0</td>\n",
       "      <td>...</td>\n",
       "      <td>0</td>\n",
       "      <td>0</td>\n",
       "      <td>1</td>\n",
       "      <td>0</td>\n",
       "      <td>0</td>\n",
       "      <td>0</td>\n",
       "      <td>0</td>\n",
       "      <td>1</td>\n",
       "      <td>1</td>\n",
       "      <td>0</td>\n",
       "    </tr>\n",
       "    <tr>\n",
       "      <th>3</th>\n",
       "      <td>0</td>\n",
       "      <td>1</td>\n",
       "      <td>0</td>\n",
       "      <td>0</td>\n",
       "      <td>0</td>\n",
       "      <td>0</td>\n",
       "      <td>0</td>\n",
       "      <td>1</td>\n",
       "      <td>0</td>\n",
       "      <td>0</td>\n",
       "      <td>...</td>\n",
       "      <td>0</td>\n",
       "      <td>0</td>\n",
       "      <td>1</td>\n",
       "      <td>0</td>\n",
       "      <td>0</td>\n",
       "      <td>0</td>\n",
       "      <td>0</td>\n",
       "      <td>1</td>\n",
       "      <td>0</td>\n",
       "      <td>1</td>\n",
       "    </tr>\n",
       "    <tr>\n",
       "      <th>4</th>\n",
       "      <td>0</td>\n",
       "      <td>1</td>\n",
       "      <td>0</td>\n",
       "      <td>0</td>\n",
       "      <td>0</td>\n",
       "      <td>0</td>\n",
       "      <td>0</td>\n",
       "      <td>1</td>\n",
       "      <td>0</td>\n",
       "      <td>0</td>\n",
       "      <td>...</td>\n",
       "      <td>0</td>\n",
       "      <td>0</td>\n",
       "      <td>0</td>\n",
       "      <td>1</td>\n",
       "      <td>0</td>\n",
       "      <td>0</td>\n",
       "      <td>1</td>\n",
       "      <td>0</td>\n",
       "      <td>1</td>\n",
       "      <td>0</td>\n",
       "    </tr>\n",
       "    <tr>\n",
       "      <th>...</th>\n",
       "      <td>...</td>\n",
       "      <td>...</td>\n",
       "      <td>...</td>\n",
       "      <td>...</td>\n",
       "      <td>...</td>\n",
       "      <td>...</td>\n",
       "      <td>...</td>\n",
       "      <td>...</td>\n",
       "      <td>...</td>\n",
       "      <td>...</td>\n",
       "      <td>...</td>\n",
       "      <td>...</td>\n",
       "      <td>...</td>\n",
       "      <td>...</td>\n",
       "      <td>...</td>\n",
       "      <td>...</td>\n",
       "      <td>...</td>\n",
       "      <td>...</td>\n",
       "      <td>...</td>\n",
       "      <td>...</td>\n",
       "      <td>...</td>\n",
       "    </tr>\n",
       "    <tr>\n",
       "      <th>487</th>\n",
       "      <td>1</td>\n",
       "      <td>0</td>\n",
       "      <td>0</td>\n",
       "      <td>0</td>\n",
       "      <td>1</td>\n",
       "      <td>1</td>\n",
       "      <td>0</td>\n",
       "      <td>0</td>\n",
       "      <td>0</td>\n",
       "      <td>0</td>\n",
       "      <td>...</td>\n",
       "      <td>0</td>\n",
       "      <td>0</td>\n",
       "      <td>1</td>\n",
       "      <td>0</td>\n",
       "      <td>0</td>\n",
       "      <td>0</td>\n",
       "      <td>0</td>\n",
       "      <td>1</td>\n",
       "      <td>1</td>\n",
       "      <td>0</td>\n",
       "    </tr>\n",
       "    <tr>\n",
       "      <th>488</th>\n",
       "      <td>1</td>\n",
       "      <td>0</td>\n",
       "      <td>0</td>\n",
       "      <td>0</td>\n",
       "      <td>1</td>\n",
       "      <td>1</td>\n",
       "      <td>0</td>\n",
       "      <td>0</td>\n",
       "      <td>0</td>\n",
       "      <td>0</td>\n",
       "      <td>...</td>\n",
       "      <td>0</td>\n",
       "      <td>0</td>\n",
       "      <td>0</td>\n",
       "      <td>1</td>\n",
       "      <td>0</td>\n",
       "      <td>0</td>\n",
       "      <td>0</td>\n",
       "      <td>1</td>\n",
       "      <td>1</td>\n",
       "      <td>0</td>\n",
       "    </tr>\n",
       "    <tr>\n",
       "      <th>489</th>\n",
       "      <td>1</td>\n",
       "      <td>0</td>\n",
       "      <td>0</td>\n",
       "      <td>0</td>\n",
       "      <td>1</td>\n",
       "      <td>1</td>\n",
       "      <td>0</td>\n",
       "      <td>0</td>\n",
       "      <td>0</td>\n",
       "      <td>0</td>\n",
       "      <td>...</td>\n",
       "      <td>0</td>\n",
       "      <td>0</td>\n",
       "      <td>1</td>\n",
       "      <td>0</td>\n",
       "      <td>0</td>\n",
       "      <td>1</td>\n",
       "      <td>0</td>\n",
       "      <td>0</td>\n",
       "      <td>1</td>\n",
       "      <td>0</td>\n",
       "    </tr>\n",
       "    <tr>\n",
       "      <th>490</th>\n",
       "      <td>1</td>\n",
       "      <td>0</td>\n",
       "      <td>0</td>\n",
       "      <td>0</td>\n",
       "      <td>1</td>\n",
       "      <td>1</td>\n",
       "      <td>0</td>\n",
       "      <td>0</td>\n",
       "      <td>0</td>\n",
       "      <td>0</td>\n",
       "      <td>...</td>\n",
       "      <td>0</td>\n",
       "      <td>0</td>\n",
       "      <td>1</td>\n",
       "      <td>0</td>\n",
       "      <td>0</td>\n",
       "      <td>1</td>\n",
       "      <td>0</td>\n",
       "      <td>0</td>\n",
       "      <td>1</td>\n",
       "      <td>0</td>\n",
       "    </tr>\n",
       "    <tr>\n",
       "      <th>491</th>\n",
       "      <td>1</td>\n",
       "      <td>0</td>\n",
       "      <td>0</td>\n",
       "      <td>0</td>\n",
       "      <td>1</td>\n",
       "      <td>1</td>\n",
       "      <td>0</td>\n",
       "      <td>0</td>\n",
       "      <td>0</td>\n",
       "      <td>0</td>\n",
       "      <td>...</td>\n",
       "      <td>0</td>\n",
       "      <td>0</td>\n",
       "      <td>1</td>\n",
       "      <td>0</td>\n",
       "      <td>0</td>\n",
       "      <td>0</td>\n",
       "      <td>1</td>\n",
       "      <td>0</td>\n",
       "      <td>1</td>\n",
       "      <td>0</td>\n",
       "    </tr>\n",
       "  </tbody>\n",
       "</table>\n",
       "<p>492 rows × 567 columns</p>\n",
       "</div>"
      ],
      "text/plain": [
       "    Good Loan  Type of Account_No Data  Type of Account_Type A  \\\n",
       "0           0                        1                       0   \n",
       "1           0                        1                       0   \n",
       "2           0                        1                       0   \n",
       "3           0                        1                       0   \n",
       "4           0                        1                       0   \n",
       "..        ...                      ...                     ...   \n",
       "487         1                        0                       0   \n",
       "488         1                        0                       0   \n",
       "489         1                        0                       0   \n",
       "490         1                        0                       0   \n",
       "491         1                        0                       0   \n",
       "\n",
       "     Type of Account_Type B  Type of Account_Type C  \\\n",
       "0                         0                       0   \n",
       "1                         0                       0   \n",
       "2                         0                       0   \n",
       "3                         0                       0   \n",
       "4                         0                       0   \n",
       "..                      ...                     ...   \n",
       "487                       0                       1   \n",
       "488                       0                       1   \n",
       "489                       0                       1   \n",
       "490                       0                       1   \n",
       "491                       0                       1   \n",
       "\n",
       "     Account History_Average (known delays)  Account History_Good  \\\n",
       "0                                         0                     0   \n",
       "1                                         0                     0   \n",
       "2                                         0                     0   \n",
       "3                                         0                     0   \n",
       "4                                         0                     0   \n",
       "..                                      ...                   ...   \n",
       "487                                       1                     0   \n",
       "488                                       1                     0   \n",
       "489                                       1                     0   \n",
       "490                                       1                     0   \n",
       "491                                       1                     0   \n",
       "\n",
       "     Account History_critical  Reason for the Loan_Advance Edu/training  \\\n",
       "0                           1                                         0   \n",
       "1                           1                                         0   \n",
       "2                           1                                         0   \n",
       "3                           1                                         0   \n",
       "4                           1                                         0   \n",
       "..                        ...                                       ...   \n",
       "487                         0                                         0   \n",
       "488                         0                                         0   \n",
       "489                         0                                         0   \n",
       "490                         0                                         0   \n",
       "491                         0                                         0   \n",
       "\n",
       "     Reason for the Loan_All other  ...  Age_327  Residence Status_Free  \\\n",
       "0                                0  ...        0                      0   \n",
       "1                                0  ...        0                      0   \n",
       "2                                0  ...        0                      0   \n",
       "3                                0  ...        0                      0   \n",
       "4                                0  ...        0                      0   \n",
       "..                             ...  ...      ...                    ...   \n",
       "487                              0  ...        0                      0   \n",
       "488                              0  ...        0                      0   \n",
       "489                              0  ...        0                      0   \n",
       "490                              0  ...        0                      0   \n",
       "491                              0  ...        0                      0   \n",
       "\n",
       "     Residence Status_House Owner  Residence Status_Renting  Job_Not Employed  \\\n",
       "0                               1                         0                 0   \n",
       "1                               1                         0                 0   \n",
       "2                               1                         0                 0   \n",
       "3                               1                         0                 0   \n",
       "4                               0                         1                 0   \n",
       "..                            ...                       ...               ...   \n",
       "487                             1                         0                 0   \n",
       "488                             0                         1                 0   \n",
       "489                             1                         0                 0   \n",
       "490                             1                         0                 0   \n",
       "491                             1                         0                 0   \n",
       "\n",
       "     Job_Professional / Management  Job_Services  Job_Skilled Labor  \\\n",
       "0                                0             1                  0   \n",
       "1                                0             0                  1   \n",
       "2                                0             0                  1   \n",
       "3                                0             0                  1   \n",
       "4                                0             1                  0   \n",
       "..                             ...           ...                ...   \n",
       "487                              0             0                  1   \n",
       "488                              0             0                  1   \n",
       "489                              1             0                  0   \n",
       "490                              1             0                  0   \n",
       "491                              0             1                  0   \n",
       "\n",
       "     Completed Other loan?_No  Completed Other loan?_Yes  \n",
       "0                           1                          0  \n",
       "1                           1                          0  \n",
       "2                           1                          0  \n",
       "3                           0                          1  \n",
       "4                           1                          0  \n",
       "..                        ...                        ...  \n",
       "487                         1                          0  \n",
       "488                         1                          0  \n",
       "489                         1                          0  \n",
       "490                         1                          0  \n",
       "491                         1                          0  \n",
       "\n",
       "[492 rows x 567 columns]"
      ]
     },
     "execution_count": 19,
     "metadata": {},
     "output_type": "execute_result"
    }
   ],
   "source": [
    "# Making categorical variables into numeric representation\n",
    "\n",
    "new_data = pd.get_dummies(data, columns = features)\n",
    "\n",
    "# Notes:\n",
    "# We can also do this with Label Encoding and OneHotEncoder from the preprocessing library\n",
    "\n",
    "print(data.shape)\n",
    "# print the shape\n",
    "print(new_data.shape)\n",
    "\n",
    "# Creating a new 0-1 y variable\n",
    "#new_raw_data['Loan Approved2'] = 0\n",
    "new_data['Good Loan'][new_data['Good Loan'] == 'Yes'] = 1\n",
    "new_data['Good Loan'][new_data['Good Loan'] == 'No'] = 0\n",
    "\n",
    "# Visualizing the data\n",
    "new_data"
   ]
  },
  {
   "cell_type": "code",
   "execution_count": 20,
   "id": "8921d750",
   "metadata": {},
   "outputs": [
    {
     "name": "stdout",
     "output_type": "stream",
     "text": [
      "(492, 566)\n",
      "(492,)\n"
     ]
    }
   ],
   "source": [
    "X= new_data.drop(['Good Loan'],axis=1)\n",
    "y = new_data['Good Loan']\n",
    "y = y.astype(int)\n",
    "\n",
    "\n",
    "print(X.shape)\n",
    "print(y.shape)"
   ]
  },
  {
   "cell_type": "code",
   "execution_count": null,
   "id": "afdc4748",
   "metadata": {},
   "outputs": [],
   "source": [
    "#from imblearn.over_sampling import SMOTE\n",
    "#over_sampler = SMOTE(sampling_strategy=sampling_strategy(X_train, y_train,n_samples, t='minority'),k_neighbors=2)\n",
    "#X_bal, y_bal = over_sampler.fit_resample(X_under, y_under)"
   ]
  },
  {
   "cell_type": "code",
   "execution_count": 21,
   "id": "32061113",
   "metadata": {},
   "outputs": [],
   "source": [
    "from imblearn.combine import SMOTETomek\n",
    "smk = SMOTETomek()"
   ]
  },
  {
   "cell_type": "code",
   "execution_count": 22,
   "id": "40e325bb",
   "metadata": {},
   "outputs": [],
   "source": [
    "x_res, y_res = smk.fit_resample(X,y)\n",
    "#X, y = oversample.fit_resample(X, y)"
   ]
  },
  {
   "cell_type": "code",
   "execution_count": 23,
   "id": "1b543dcf",
   "metadata": {},
   "outputs": [
    {
     "name": "stdout",
     "output_type": "stream",
     "text": [
      "Original dataset shape Counter({1: 465, 0: 27})\n",
      "Resampled dataset shape Counter({0: 464, 1: 464})\n"
     ]
    }
   ],
   "source": [
    "from collections import Counter\n",
    "print('Original dataset shape {}'.format(Counter(y)))\n",
    "print('Resampled dataset shape {}'.format(Counter(y_res)))"
   ]
  },
  {
   "cell_type": "code",
   "execution_count": 24,
   "id": "d4491f21",
   "metadata": {},
   "outputs": [],
   "source": [
    "X_train, X_test, y_train, y_test = train_test_split(X, y, train_size = 0.8, test_size=0.2, random_state=15)\n"
   ]
  },
  {
   "cell_type": "code",
   "execution_count": 25,
   "id": "ff325e61",
   "metadata": {},
   "outputs": [],
   "source": [
    "#using scaler to normalize the distribution \n",
    "\n",
    "from sklearn.preprocessing import StandardScaler\n",
    "sc = StandardScaler()\n",
    "X_train = sc.fit_transform(X_train)\n",
    "X_test = sc.transform(X_test)"
   ]
  },
  {
   "cell_type": "code",
   "execution_count": 26,
   "id": "72e31b92",
   "metadata": {},
   "outputs": [],
   "source": [
    "#declare the model,fit and predict on the traindata\n",
    "from sklearn.ensemble import RandomForestClassifier\n",
    "rf_classifier=RandomForestClassifier(n_estimators=10).fit(X_train,y_train)\n",
    "prediction=rf_classifier.predict(X_test)"
   ]
  },
  {
   "cell_type": "code",
   "execution_count": 27,
   "id": "853c5c19",
   "metadata": {},
   "outputs": [
    {
     "name": "stdout",
     "output_type": "stream",
     "text": [
      "[[ 2  5]\n",
      " [ 1 91]]\n",
      "0.9393939393939394\n",
      "              precision    recall  f1-score   support\n",
      "\n",
      "           0       0.67      0.29      0.40         7\n",
      "           1       0.95      0.99      0.97        92\n",
      "\n",
      "    accuracy                           0.94        99\n",
      "   macro avg       0.81      0.64      0.68        99\n",
      "weighted avg       0.93      0.94      0.93        99\n",
      "\n"
     ]
    }
   ],
   "source": [
    "#calculate the cm and accuracy score\n",
    "\n",
    "from sklearn.metrics import confusion_matrix,classification_report,accuracy_score\n",
    "print(confusion_matrix(y_test,prediction))\n",
    "print(accuracy_score(y_test,prediction))\n",
    "print(classification_report(y_test,prediction))"
   ]
  },
  {
   "cell_type": "code",
   "execution_count": 28,
   "id": "679c54f0",
   "metadata": {},
   "outputs": [
    {
     "data": {
      "text/plain": [
       "[1.0, 1.0, 1.0, 1.0, 1.0]"
      ]
     },
     "execution_count": 28,
     "metadata": {},
     "output_type": "execute_result"
    }
   ],
   "source": [
    "#calculate area under curve score\n",
    "\n",
    "from sklearn.metrics import roc_auc_score\n",
    "\n",
    "# Predict class probabilities\n",
    "prob_y_2 = rf_classifier.predict_proba(X_test)\n",
    " \n",
    "# Keep only the positive class\n",
    "prob_y_2 = [p[1] for p in prob_y_2]\n",
    " \n",
    "prob_y_2[:5] # Example"
   ]
  },
  {
   "cell_type": "code",
   "execution_count": 29,
   "id": "d5e6fed7",
   "metadata": {},
   "outputs": [
    {
     "name": "stdout",
     "output_type": "stream",
     "text": [
      "0.9557453416149069\n"
     ]
    }
   ],
   "source": [
    "print( roc_auc_score(y_test, prob_y_2) )"
   ]
  },
  {
   "cell_type": "code",
   "execution_count": 30,
   "id": "2033e0dc",
   "metadata": {},
   "outputs": [
    {
     "name": "stdout",
     "output_type": "stream",
     "text": [
      "{'n_estimators': [200, 400, 600, 800, 1000, 1200, 1400, 1600, 1800, 2000], 'max_features': ['auto', 'sqrt', 'log2'], 'max_depth': [10, 120, 230, 340, 450, 560, 670, 780, 890, 1000], 'min_samples_split': [2, 5, 10, 14], 'min_samples_leaf': [1, 2, 4, 6, 8], 'criterion': ['entropy', 'gini']}\n"
     ]
    }
   ],
   "source": [
    "#hypertuning process\n",
    "import numpy as np\n",
    "from sklearn.model_selection import RandomizedSearchCV\n",
    "# Number of trees in random forest\n",
    "n_estimators = [int(x) for x in np.linspace(start = 200, stop = 2000, num = 10)]\n",
    "# Number of features to consider at every split\n",
    "max_features = ['auto', 'sqrt','log2']\n",
    "# Maximum number of levels in tree\n",
    "max_depth = [int(x) for x in np.linspace(10, 1000,10)]\n",
    "# Minimum number of samples required to split a node\n",
    "min_samples_split = [2, 5, 10,14]\n",
    "# Minimum number of samples required at each leaf node\n",
    "min_samples_leaf = [1, 2, 4,6,8]\n",
    "# Create the random grid\n",
    "random_grid = {'n_estimators': n_estimators,\n",
    "               'max_features': max_features,\n",
    "               'max_depth': max_depth,\n",
    "               'min_samples_split': min_samples_split,\n",
    "               'min_samples_leaf': min_samples_leaf,\n",
    "              'criterion':['entropy','gini']}\n",
    "print(random_grid)"
   ]
  },
  {
   "cell_type": "code",
   "execution_count": 31,
   "id": "e53f1c78",
   "metadata": {},
   "outputs": [
    {
     "name": "stdout",
     "output_type": "stream",
     "text": [
      "Fitting 3 folds for each of 100 candidates, totalling 300 fits\n"
     ]
    },
    {
     "data": {
      "text/plain": [
       "RandomizedSearchCV(cv=3, estimator=RandomForestClassifier(), n_iter=100,\n",
       "                   n_jobs=-1,\n",
       "                   param_distributions={'criterion': ['entropy', 'gini'],\n",
       "                                        'max_depth': [10, 120, 230, 340, 450,\n",
       "                                                      560, 670, 780, 890,\n",
       "                                                      1000],\n",
       "                                        'max_features': ['auto', 'sqrt',\n",
       "                                                         'log2'],\n",
       "                                        'min_samples_leaf': [1, 2, 4, 6, 8],\n",
       "                                        'min_samples_split': [2, 5, 10, 14],\n",
       "                                        'n_estimators': [200, 400, 600, 800,\n",
       "                                                         1000, 1200, 1400, 1600,\n",
       "                                                         1800, 2000]},\n",
       "                   random_state=100, verbose=2)"
      ]
     },
     "execution_count": 31,
     "metadata": {},
     "output_type": "execute_result"
    }
   ],
   "source": [
    "rf=RandomForestClassifier()\n",
    "rf_randomcv=RandomizedSearchCV(estimator=rf,param_distributions=random_grid,n_iter=100,cv=3,verbose=2,\n",
    "                               random_state=100,n_jobs=-1)\n",
    "### fit the randomized model\n",
    "rf_randomcv.fit(X_train,y_train)"
   ]
  },
  {
   "cell_type": "code",
   "execution_count": 32,
   "id": "7cbf2b2c",
   "metadata": {},
   "outputs": [
    {
     "data": {
      "text/plain": [
       "{'n_estimators': 600,\n",
       " 'min_samples_split': 2,\n",
       " 'min_samples_leaf': 1,\n",
       " 'max_features': 'sqrt',\n",
       " 'max_depth': 120,\n",
       " 'criterion': 'entropy'}"
      ]
     },
     "execution_count": 32,
     "metadata": {},
     "output_type": "execute_result"
    }
   ],
   "source": [
    "rf_randomcv.best_params_"
   ]
  },
  {
   "cell_type": "code",
   "execution_count": 33,
   "id": "b66186e5",
   "metadata": {},
   "outputs": [
    {
     "data": {
      "text/plain": [
       "RandomizedSearchCV(cv=3, estimator=RandomForestClassifier(), n_iter=100,\n",
       "                   n_jobs=-1,\n",
       "                   param_distributions={'criterion': ['entropy', 'gini'],\n",
       "                                        'max_depth': [10, 120, 230, 340, 450,\n",
       "                                                      560, 670, 780, 890,\n",
       "                                                      1000],\n",
       "                                        'max_features': ['auto', 'sqrt',\n",
       "                                                         'log2'],\n",
       "                                        'min_samples_leaf': [1, 2, 4, 6, 8],\n",
       "                                        'min_samples_split': [2, 5, 10, 14],\n",
       "                                        'n_estimators': [200, 400, 600, 800,\n",
       "                                                         1000, 1200, 1400, 1600,\n",
       "                                                         1800, 2000]},\n",
       "                   random_state=100, verbose=2)"
      ]
     },
     "execution_count": 33,
     "metadata": {},
     "output_type": "execute_result"
    }
   ],
   "source": [
    "rf_randomcv"
   ]
  },
  {
   "cell_type": "code",
   "execution_count": 34,
   "id": "64787669",
   "metadata": {},
   "outputs": [],
   "source": [
    "best_random_grid=rf_randomcv.best_estimator_"
   ]
  },
  {
   "cell_type": "code",
   "execution_count": 35,
   "id": "303f3537",
   "metadata": {},
   "outputs": [
    {
     "name": "stdout",
     "output_type": "stream",
     "text": [
      "[[ 4  3]\n",
      " [ 0 92]]\n",
      "Accuracy Score 0.9696969696969697\n",
      "Classification report:               precision    recall  f1-score   support\n",
      "\n",
      "           0       1.00      0.57      0.73         7\n",
      "           1       0.97      1.00      0.98        92\n",
      "\n",
      "    accuracy                           0.97        99\n",
      "   macro avg       0.98      0.79      0.86        99\n",
      "weighted avg       0.97      0.97      0.97        99\n",
      "\n"
     ]
    }
   ],
   "source": [
    "from sklearn.metrics import accuracy_score\n",
    "y_pred=best_random_grid.predict(X_test)\n",
    "print(confusion_matrix(y_test,y_pred))\n",
    "print(\"Accuracy Score {}\".format(accuracy_score(y_test,y_pred)))\n",
    "print(\"Classification report: {}\".format(classification_report(y_test,y_pred)))"
   ]
  },
  {
   "cell_type": "code",
   "execution_count": 36,
   "id": "6b64932b",
   "metadata": {},
   "outputs": [
    {
     "data": {
      "text/plain": [
       "[0.99, 0.975, 1.0, 0.9983333333333333, 0.9983333333333333]"
      ]
     },
     "execution_count": 36,
     "metadata": {},
     "output_type": "execute_result"
    }
   ],
   "source": [
    "from sklearn.metrics import roc_auc_score\n",
    "\n",
    "# Predict class probabilities\n",
    "prob_y_2 = best_random_grid.predict_proba(X_test)\n",
    " \n",
    "# Keep only the positive class\n",
    "prob_y_2 = [p[1] for p in prob_y_2]\n",
    " \n",
    "prob_y_2[:5] # Example\n"
   ]
  },
  {
   "cell_type": "code",
   "execution_count": 37,
   "id": "ef33fc60",
   "metadata": {},
   "outputs": [
    {
     "name": "stdout",
     "output_type": "stream",
     "text": [
      "0.9945652173913043\n"
     ]
    }
   ],
   "source": [
    "print( roc_auc_score(y_test, prob_y_2) )"
   ]
  },
  {
   "cell_type": "code",
   "execution_count": null,
   "id": "1f6b9fe6",
   "metadata": {},
   "outputs": [],
   "source": []
  },
  {
   "cell_type": "code",
   "execution_count": null,
   "id": "723dc828",
   "metadata": {},
   "outputs": [],
   "source": []
  }
 ],
 "metadata": {
  "kernelspec": {
   "display_name": "Python 3",
   "language": "python",
   "name": "python3"
  },
  "language_info": {
   "codemirror_mode": {
    "name": "ipython",
    "version": 3
   },
   "file_extension": ".py",
   "mimetype": "text/x-python",
   "name": "python",
   "nbconvert_exporter": "python",
   "pygments_lexer": "ipython3",
   "version": "3.8.8"
  }
 },
 "nbformat": 4,
 "nbformat_minor": 5
}
